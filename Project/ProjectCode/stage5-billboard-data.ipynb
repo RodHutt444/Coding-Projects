{
 "cells": [
  {
   "cell_type": "code",
   "execution_count": null,
   "id": "18712f0f",
   "metadata": {},
   "outputs": [
    {
     "name": "stdout",
     "output_type": "stream",
     "text": [
      "pop-songs 2021 1st: Levitating\n"
     ]
    }
   ],
   "source": [
    "#import packages\n",
    "import billboard\n",
    "import spotipy\n",
    "from spotipy.oauth2 import SpotifyClientCredentials\n",
    "import pandas as pd\n",
    "\n",
    "#init list to store chart songs\n",
    "chart_lists = list()\n",
    "\n",
    "# list of billboard charts to grab\n",
    "chart_titles=['pop-songs', 'alternative-songs','hot-country-songs','Hot-Rap-Songs','Hot-100-Songs']\n",
    "\n",
    "#connect to spotify\n",
    "spotify = spotipy.Spotify(client_credentials_manager=SpotifyClientCredentials(client_id=\"cfe66cda140c43348dd2579cd81a0e84\",client_secret=\"40c03ac11243418a96dcfb0fb5c09a39\"))\n",
    "\n",
    "#loop through billboard charts\n",
    "for chart_title in chart_titles:\n",
    "    #init list for songs for this chart\n",
    "    song_list = list()\n",
    "    # loop through 10 years of billboard charts\n",
    "    for year in range(2021,2011,-1):\n",
    "        #get chart for a year\n",
    "        chart = billboard.ChartData(chart_title, year=year)\n",
    "        #print 1st entry\n",
    "        print(chart_title, year, \"1st:\", chart[0].title)\n",
    "        #loop through songs\n",
    "        for song in chart:\n",
    "            #get spotify song information\n",
    "            result = spotify.search(q=f\"track:{song.title}\", type=\"track\", market=\"US\")\n",
    "            #get song's dictionary\n",
    "            test=result[\"tracks\"][\"items\"]\n",
    "            #if it foud the song, add it to the song list\n",
    "            if len(test) !=0:\n",
    "                #print(test[0])\n",
    "                song_list.append(test[0])\n",
    "    #append song list to chart list              \n",
    "    chart_lists.append(song_list)\n",
    "\n"
   ]
  },
  {
   "cell_type": "code",
   "execution_count": 108,
   "id": "876797b3",
   "metadata": {},
   "outputs": [
    {
     "name": "stdout",
     "output_type": "stream",
     "text": [
      "5\n"
     ]
    }
   ],
   "source": [
    "#list to store the chart dataframes\n",
    "df_list = list()\n",
    "#loop through charts\n",
    "for charti in chart_lists:\n",
    "    #convert dictionary to dataframe\n",
    "    df = pd.DataFrame.from_dict(charti)\n",
    "    #add some columns for album info\n",
    "    album= df['album'].to_list()\n",
    "    df_album= pd.DataFrame.from_dict(album)\n",
    "    df['album_type'] = df_album['album_type']\n",
    "    df['album_name'] = df_album['name']\n",
    "    df['release_year'] = df_album['release_date'].str[:4]\n",
    "    \n",
    "    #add to list of datframes\n",
    "    df_list.append(df.copy())\n",
    "    \n",
    "print(len(df_list))"
   ]
  },
  {
   "cell_type": "code",
   "execution_count": 109,
   "id": "6421a355",
   "metadata": {},
   "outputs": [
    {
     "name": "stdout",
     "output_type": "stream",
     "text": [
      "pop-songs\n",
      "499\n",
      "alternative-songs\n",
      "496\n",
      "hot-country-songs\n",
      "996\n",
      "Hot-Rap-Songs\n",
      "499\n",
      "Hot-100-Songs\n",
      "999\n",
      "5\n"
     ]
    },
    {
     "data": {
      "text/plain": [
       "Index(['disc_number', 'duration_ms_x', 'explicit', 'id', 'is_local',\n",
       "       'is_playable', 'name', 'popularity', 'track_number', 'type_x',\n",
       "       'album_type', 'album_name', 'release_year', 'danceability', 'energy',\n",
       "       'key', 'loudness', 'mode', 'speechiness', 'acousticness',\n",
       "       'instrumentalness', 'liveness', 'valence', 'tempo'],\n",
       "      dtype='object')"
      ]
     },
     "execution_count": 109,
     "metadata": {},
     "output_type": "execute_result"
    }
   ],
   "source": [
    "spotify = spotipy.Spotify(client_credentials_manager=SpotifyClientCredentials(client_id=\"cfe66cda140c43348dd2579cd81a0e84\",client_secret=\"40c03ac11243418a96dcfb0fb5c09a39\"))\n",
    "\n",
    "#list to store features dataframes\n",
    "df_list2 = list()\n",
    "# loop through list of dataframes\n",
    "for k in range(len(df_list)):\n",
    "    # get the spotify song ids\n",
    "    billboard_ids = df_list[k][\"id\"].tolist()\n",
    "    #number of records to pull\n",
    "    n = 100\n",
    "    #list to store features\n",
    "    list_feat = list()\n",
    "    #print chart titles\n",
    "    print(chart_titles[k])\n",
    "    \n",
    "    #loop through songs in dataframe\n",
    "    for i in range(0,len(billboard_ids),n):\n",
    "        #get there features\n",
    "        result_feat = spotify.audio_features(billboard_ids[i:i+n])\n",
    "        \n",
    "        #loop throug songs features\n",
    "        for j in range(len(result_feat)):\n",
    "            #if found, add to list _feature\n",
    "            if str(result_feat[j] ) != \"None\":\n",
    "                list_feat.append(result_feat[j])\n",
    "    #convert dictionary to dataframe\n",
    "    df_billboard_feat = pd.DataFrame.from_dict(list_feat) \n",
    "    #print length\n",
    "    print(len(df_billboard_feat)) \n",
    "    \n",
    "    #merge dataframes on id\n",
    "    df = pd.merge(df_list[k], df_billboard_feat, on=[\"id\"])\n",
    "    \n",
    "    #drop duplicates\n",
    "    df.drop_duplicates(subset=\"id\",\n",
    "                     keep=False, inplace=True)\n",
    "    \n",
    "    #drop unneeded columns\n",
    "    df.drop(['album','artists','external_ids', 'external_urls', 'href', 'preview_url','uri_x', 'uri_y', 'track_href', 'analysis_url', 'duration_ms_y','type_y'], axis=1, inplace=True)\n",
    "    \n",
    "    #add to list of dataframes for different charts\n",
    "    df_list2.append(df.copy())\n",
    "\n",
    "print(len(df_list2))\n",
    "df_list2[0].columns"
   ]
  },
  {
   "cell_type": "code",
   "execution_count": 110,
   "id": "74e01c0f",
   "metadata": {},
   "outputs": [
    {
     "name": "stdout",
     "output_type": "stream",
     "text": [
      "499\n",
      "407\n"
     ]
    },
    {
     "data": {
      "text/plain": [
       "Index(['disc_number', 'duration_ms_x', 'explicit', 'id', 'is_local',\n",
       "       'is_playable', 'name', 'popularity', 'track_number', 'type_x',\n",
       "       'album_type', 'album_name', 'release_year', 'danceability', 'energy',\n",
       "       'key', 'loudness', 'mode', 'speechiness', 'acousticness',\n",
       "       'instrumentalness', 'liveness', 'valence', 'tempo', 'Genre'],\n",
       "      dtype='object')"
      ]
     },
     "execution_count": 110,
     "metadata": {},
     "output_type": "execute_result"
    }
   ],
   "source": [
    "# add a column for Billboard Genre Chart and save as CSV file\n",
    "df_list2[0][\"Genre\"] = \"Pop\"\n",
    "print(len(df_list[0]))\n",
    "print(len(df_list2[0]))\n",
    "df_list2[0].to_csv(\"pop-songs-billboard.csv\")\n",
    "df_list2[1][\"Genre\"] = \"Alternative\"\n",
    "df_list2[1].to_csv(\"alt-songs-billboard.csv\")\n",
    "df_list2[2][\"Genre\"] = \"Country\"\n",
    "df_list2[2].to_csv(\"country-songs-billboard.csv\")\n",
    "df_list2[3][\"Genre\"] = \"Rap\"\n",
    "df_list2[3].to_csv(\"rap-songs-billboard.csv\")\n",
    "df_list2[4][\"Genre\"] = \"Hot 100\"\n",
    "df_list2[4].to_csv(\"hot100-songs-billboard.csv\")\n",
    "df_list2[0].columns"
   ]
  },
  {
   "cell_type": "code",
   "execution_count": null,
   "id": "0cc3143b",
   "metadata": {},
   "outputs": [],
   "source": []
  }
 ],
 "metadata": {
  "kernelspec": {
   "display_name": "Python 3 (ipykernel)",
   "language": "python",
   "name": "python3"
  },
  "language_info": {
   "codemirror_mode": {
    "name": "ipython",
    "version": 3
   },
   "file_extension": ".py",
   "mimetype": "text/x-python",
   "name": "python",
   "nbconvert_exporter": "python",
   "pygments_lexer": "ipython3",
   "version": "3.9.12"
  }
 },
 "nbformat": 4,
 "nbformat_minor": 5
}
